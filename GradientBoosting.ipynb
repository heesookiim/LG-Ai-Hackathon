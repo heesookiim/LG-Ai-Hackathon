{
  "cells": [
    {
      "cell_type": "code",
      "execution_count": null,
      "metadata": {
        "id": "hMBLfsZoc1vs"
      },
      "outputs": [],
      "source": [
        "import pandas as pd\n",
        "import random\n",
        "import os\n",
        "import numpy as np\n",
        "from sklearn.preprocessing import LabelEncoder\n",
        "from sklearn.model_selection import train_test_split\n",
        "from sklearn.ensemble import GradientBoostingClassifier\n",
        "from sklearn.metrics import f1_score\n",
        "import matplotlib.pyplot as plt"
      ]
    },
    {
      "cell_type": "code",
      "execution_count": null,
      "metadata": {
        "id": "AJeKPtT6bbFp"
      },
      "outputs": [],
      "source": [
        "import warnings\n",
        "warnings.filterwarnings('ignore')"
      ]
    },
    {
      "cell_type": "code",
      "execution_count": null,
      "metadata": {
        "id": "JMSS885mbggF"
      },
      "outputs": [],
      "source": [
        "def seed_everything(seed):\n",
        "    random.seed(seed)\n",
        "    os.environ['PYTHONHASHSEED'] = str(seed)\n",
        "    np.random.seed(seed)\n",
        "seed_everything(37) # Fixed seed number"
      ]
    },
    {
      "cell_type": "code",
      "execution_count": null,
      "metadata": {
        "id": "-F47r1n8bhkU"
      },
      "outputs": [],
      "source": [
        "train_df = pd.read_csv('/content/drive/MyDrive/train.csv')\n",
        "test_df = pd.read_csv('/content/drive/MyDrive/test.csv')"
      ]
    },
    {
      "cell_type": "code",
      "execution_count": null,
      "metadata": {
        "id": "OYWmK0u4bzkr"
      },
      "outputs": [],
      "source": [
        "# eliminate outlier in Y_Quality\n",
        "drop_idx = train_df.loc[train_df['Y_Quality'] > 0.57 ].index\n",
        "\n",
        "train_df=train_df.drop(drop_idx, axis=0)"
      ]
    },
    {
      "cell_type": "code",
      "execution_count": null,
      "metadata": {
        "colab": {
          "base_uri": "https://localhost:8080/"
        },
        "id": "GKXgOfaNcEBD",
        "outputId": "5f5c889b-eb9d-45cf-804a-542db2c7c095"
      },
      "outputs": [
        {
          "data": {
            "text/plain": [
              "(597, 2881)"
            ]
          },
          "execution_count": 6,
          "metadata": {},
          "output_type": "execute_result"
        }
      ],
      "source": [
        "train_df.shape"
      ]
    },
    {
      "cell_type": "code",
      "execution_count": null,
      "metadata": {
        "id": "OlPRen-ocn-D"
      },
      "outputs": [],
      "source": [
        "# Replace values with Null to 0\n",
        "train_df=train_df.fillna(0)\n",
        "test_df=test_df.fillna(0)"
      ]
    },
    {
      "cell_type": "code",
      "execution_count": null,
      "metadata": {
        "id": "okXFF3fJcEYS"
      },
      "outputs": [],
      "source": [
        "dataFeatures = []\n",
        "zero=[]\n",
        "\n",
        "for item in list(train_df):\n",
        "    dataFeatures.append(item)\n",
        "for item in dataFeatures:\n",
        "    zero.append(len(train_df[train_df[item]==0]))\n",
        "\n",
        "zerodata = pd.DataFrame({\n",
        "    'dataFeatures' : dataFeatures,\n",
        "    'zero':zero\n",
        "})"
      ]
    },
    {
      "cell_type": "code",
      "execution_count": null,
      "metadata": {
        "id": "wE4ULHbBdO5j"
      },
      "outputs": [],
      "source": [
        "a=zerodata[zerodata['zero']== 597]['dataFeatures']"
      ]
    },
    {
      "cell_type": "code",
      "execution_count": null,
      "metadata": {
        "colab": {
          "base_uri": "https://localhost:8080/"
        },
        "id": "AJJkSPnzdSqa",
        "outputId": "3d4c1b9d-6baf-4ada-f689-e4022b4a892a"
      },
      "outputs": [
        {
          "data": {
            "text/plain": [
              "8          X_3\n",
              "11         X_6\n",
              "19        X_14\n",
              "75        X_70\n",
              "79        X_74\n",
              "         ...  \n",
              "2849    X_2844\n",
              "2877    X_2872\n",
              "2878    X_2873\n",
              "2879    X_2874\n",
              "2880    X_2875\n",
              "Name: dataFeatures, Length: 281, dtype: object"
            ]
          },
          "execution_count": 11,
          "metadata": {},
          "output_type": "execute_result"
        }
      ],
      "source": [
        "a # column that has 0"
      ]
    },
    {
      "cell_type": "code",
      "execution_count": null,
      "metadata": {
        "id": "7CvxTyRjdTGD"
      },
      "outputs": [],
      "source": [
        "train_df=train_df.drop(columns=a)\n",
        "test_df=test_df.drop(columns=a)"
      ]
    },
    {
      "cell_type": "code",
      "execution_count": null,
      "metadata": {
        "id": "3hNo8KkSdpzT"
      },
      "outputs": [],
      "source": [
        "# Removed unnecessary variables that are not required for prediction.\n",
        "train_x = train_df.drop(columns=['PRODUCT_ID', 'TIMESTAMP', 'Y_Class', 'Y_Quality'])\n",
        "train_y = train_df['Y_Class']\n",
        "\n",
        "test_x = test_df.drop(columns=['PRODUCT_ID', 'TIMESTAMP'])"
      ]
    },
    {
      "cell_type": "code",
      "execution_count": null,
      "metadata": {},
      "outputs": [],
      "source": [
        "from collections import Counter\n",
        "collections.Counter(train_y)"
      ]
    },
    {
      "cell_type": "code",
      "execution_count": null,
      "metadata": {
        "id": "ciZ0xmk0dfDD"
      },
      "outputs": [],
      "source": [
        "print(train_x.shape)\n",
        "print(train_y.shape)\n",
        "print(test_x.shape)"
      ]
    },
    {
      "cell_type": "code",
      "execution_count": null,
      "metadata": {
        "colab": {
          "base_uri": "https://localhost:8080/"
        },
        "id": "GUjzwzRueAxy",
        "outputId": "3aa76e8a-8b30-4019-b55f-5a7b13b201f6"
      },
      "outputs": [
        {
          "name": "stdout",
          "output_type": "stream",
          "text": [
            "Done.\n"
          ]
        }
      ],
      "source": [
        "# qualitative to quantitative\n",
        "qual_col = ['LINE', 'PRODUCT_CODE']\n",
        "\n",
        "for i in qual_col:\n",
        "    le = LabelEncoder()\n",
        "    le = le.fit(train_x[i])\n",
        "    train_x[i] = le.transform(train_x[i])\n",
        "    \n",
        "    for label in np.unique(test_x[i]): \n",
        "        if label not in le.classes_: \n",
        "            le.classes_ = np.append(le.classes_, label)\n",
        "    test_x[i] = le.transform(test_x[i]) \n",
        "print('Done.')"
      ]
    },
    {
      "cell_type": "code",
      "execution_count": null,
      "metadata": {
        "id": "3jsp0lrViB86"
      },
      "outputs": [],
      "source": [
        "# Created derived variables by combining data based on high-importance features\n",
        "# Determined through correlation analysis. \n",
        "# Identified and utilized the top 5 combinations that resulted in the best performance.\n",
        "train_x[\"importance\"] = train_x[\"X_248\"] / train_x[\"X_248\"].mean()+ train_x[\"X_374\"] / train_x[\"X_374\"].mean()+ train_x[\"X_373\"] / train_x[\"X_373\"].mean()+ train_x[\"X_130\"] / train_x[\"X_130\"].mean()+train_x[\"X_131\"] / train_x[\"X_131\"].mean()\n",
        "test_x[\"importance\"] = test_x[\"X_248\"] / train_x[\"X_248\"].mean()+test_x[\"X_374\"] / train_x[\"X_374\"].mean()+test_x[\"X_373\"] / train_x[\"X_373\"].mean()+test_x[\"X_130\"] / train_x[\"X_130\"].mean()+test_x[\"X_131\"] / train_x[\"X_131\"].mean()"
      ]
    },
    {
      "cell_type": "code",
      "execution_count": null,
      "metadata": {
        "colab": {
          "base_uri": "https://localhost:8080/"
        },
        "id": "C6W-IVMilVJM",
        "outputId": "0fbf4006-4730-4357-fd41-726f6c3f9c0f"
      },
      "outputs": [
        {
          "name": "stdout",
          "output_type": "stream",
          "text": [
            "(597, 2597)\n",
            "(597,)\n",
            "(310, 2597)\n"
          ]
        }
      ],
      "source": [
        "print(train_x.shape)\n",
        "print(train_y.shape)\n",
        "print(test_x.shape)"
      ]
    },
    {
      "cell_type": "code",
      "execution_count": null,
      "metadata": {
        "id": "r4zdfw4QjQya"
      },
      "outputs": [],
      "source": [
        "# Performed data partitioning \n",
        "train_X, test_X, train_Y, test_Y = train_test_split(train_x, train_y, test_size = 0.2, \n",
        "                                                    random_state = 0)"
      ]
    },
    {
      "attachments": {},
      "cell_type": "markdown",
      "metadata": {
        "id": "ELfBxHe5eUOb"
      },
      "source": [
        "# Data Preprocessing\n",
        "- Removed outliers from the data to enhance data quality and model performance.\n",
        "- Eliminated data points where all values were either zero or null, taking into consideration the different implications of 0 and null values.\n",
        "- Categorized categorical variables to convert them into discrete categories for better analysis and modeling.\n",
        "- Created derived variables or features to capture additional information and improve model performance.\n"
      ]
    },
    {
      "cell_type": "markdown",
      "metadata": {
        "id": "SVvhI7dGmd7q"
      },
      "source": [
        "\n",
        "\n",
        "---\n",
        "\n"
      ]
    },
    {
      "attachments": {},
      "cell_type": "markdown",
      "metadata": {
        "id": "3_aBxb_umVdL"
      },
      "source": [
        "#  **Training**"
      ]
    },
    {
      "cell_type": "markdown",
      "metadata": {
        "id": "c3Y5QmzWnZCa"
      },
      "source": [
        "![image.png](data:image/png;base64,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)  \n",
        "GB가 가장 좋은 성능을 보이기 때문에 GB로 최종 선정"
      ]
    },
    {
      "cell_type": "code",
      "execution_count": null,
      "metadata": {
        "colab": {
          "base_uri": "https://localhost:8080/"
        },
        "id": "uz9849X3iXAq",
        "outputId": "50a2e1dd-bdd1-4d85-bb68-2f9e07d6e043"
      },
      "outputs": [
        {
          "name": "stdout",
          "output_type": "stream",
          "text": [
            "0.7649\n"
          ]
        }
      ],
      "source": [
        "# Gradient Boosing showed the best performance, so we chose GB\n",
        "GB = GradientBoostingClassifier(random_state=37).fit(train_X, train_Y)\n",
        "preds = GB.predict(test_X)\n",
        "case_1 = f1_score(test_Y, preds, average='macro')\n",
        "print(round(case_1, 4))"
      ]
    },
    {
      "cell_type": "code",
      "execution_count": null,
      "metadata": {
        "id": "BLHWaOM2khkr"
      },
      "outputs": [],
      "source": [
        "GB = GradientBoostingClassifier(random_state=37).fit(train_x, train_y)\n",
        "preds= GB.predict(test_x) "
      ]
    },
    {
      "cell_type": "code",
      "execution_count": null,
      "metadata": {
        "id": "mmjppGepk0Ki"
      },
      "outputs": [],
      "source": [
        "submit = pd.read_csv('/content/drive/MyDrive/sample_submission.csv')\n",
        "submit['Y_Class'] = preds\n",
        "submit.to_csv('./submission2.csv', index=False)"
      ]
    },
    {
      "cell_type": "code",
      "execution_count": null,
      "metadata": {},
      "outputs": [],
      "source": [
        "from collections import Counter\n",
        "collections.Counter(preds)"
      ]
    },
    {
      "attachments": {},
      "cell_type": "markdown",
      "metadata": {
        "id": "LQ93tXgBkb5a"
      },
      "source": [
        "## Result in Hackathon: 0.70011 => 70.01% accuracy"
      ]
    },
    {
      "cell_type": "markdown",
      "metadata": {},
      "source": []
    }
  ],
  "metadata": {
    "colab": {
      "provenance": []
    },
    "gpuClass": "standard",
    "kernelspec": {
      "display_name": "Python 3",
      "name": "python3"
    },
    "language_info": {
      "name": "python"
    }
  },
  "nbformat": 4,
  "nbformat_minor": 0
}
